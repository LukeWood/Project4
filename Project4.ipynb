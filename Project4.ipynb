{
 "cells": [
  {
   "cell_type": "markdown",
   "metadata": {},
   "source": [
    "# Lab 4: Extending Logistic Regression"
   ]
  },
  {
   "cell_type": "code",
   "execution_count": 73,
   "metadata": {},
   "outputs": [
    {
     "name": "stderr",
     "output_type": "stream",
     "text": [
      "/Users/oscar/anaconda/lib/python3.6/site-packages/IPython/core/interactiveshell.py:2717: DtypeWarning:\n",
      "\n",
      "Columns (9,11,15) have mixed types. Specify dtype option on import or set low_memory=False.\n",
      "\n",
      "/Users/oscar/anaconda/lib/python3.6/site-packages/ipykernel_launcher.py:5: SettingWithCopyWarning:\n",
      "\n",
      "\n",
      "A value is trying to be set on a copy of a slice from a DataFrame\n",
      "\n",
      "See the caveats in the documentation: http://pandas.pydata.org/pandas-docs/stable/indexing.html#indexing-view-versus-copy\n",
      "\n",
      "/Users/oscar/anaconda/lib/python3.6/site-packages/ipykernel_launcher.py:6: SettingWithCopyWarning:\n",
      "\n",
      "\n",
      "A value is trying to be set on a copy of a slice from a DataFrame\n",
      "\n",
      "See the caveats in the documentation: http://pandas.pydata.org/pandas-docs/stable/indexing.html#indexing-view-versus-copy\n",
      "\n",
      "/Users/oscar/anaconda/lib/python3.6/site-packages/ipykernel_launcher.py:7: SettingWithCopyWarning:\n",
      "\n",
      "\n",
      "A value is trying to be set on a copy of a slice from a DataFrame\n",
      "\n",
      "See the caveats in the documentation: http://pandas.pydata.org/pandas-docs/stable/indexing.html#indexing-view-versus-copy\n",
      "\n",
      "/Users/oscar/anaconda/lib/python3.6/site-packages/ipykernel_launcher.py:8: SettingWithCopyWarning:\n",
      "\n",
      "\n",
      "A value is trying to be set on a copy of a slice from a DataFrame\n",
      "\n",
      "See the caveats in the documentation: http://pandas.pydata.org/pandas-docs/stable/indexing.html#indexing-view-versus-copy\n",
      "\n",
      "/Users/oscar/anaconda/lib/python3.6/site-packages/pandas/core/generic.py:2999: SettingWithCopyWarning:\n",
      "\n",
      "\n",
      "A value is trying to be set on a copy of a slice from a DataFrame.\n",
      "Try using .loc[row_indexer,col_indexer] = value instead\n",
      "\n",
      "See the caveats in the documentation: http://pandas.pydata.org/pandas-docs/stable/indexing.html#indexing-view-versus-copy\n",
      "\n"
     ]
    },
    {
     "data": {
      "text/html": [
       "<div>\n",
       "<style>\n",
       "    .dataframe thead tr:only-child th {\n",
       "        text-align: right;\n",
       "    }\n",
       "\n",
       "    .dataframe thead th {\n",
       "        text-align: left;\n",
       "    }\n",
       "\n",
       "    .dataframe tbody tr th {\n",
       "        vertical-align: top;\n",
       "    }\n",
       "</style>\n",
       "<table border=\"1\" class=\"dataframe\">\n",
       "  <thead>\n",
       "    <tr style=\"text-align: right;\">\n",
       "      <th></th>\n",
       "      <th>Unnamed: 0</th>\n",
       "      <th>PseudoID</th>\n",
       "      <th>Name</th>\n",
       "      <th>Date</th>\n",
       "      <th>Agency</th>\n",
       "      <th>Station</th>\n",
       "      <th>Age</th>\n",
       "      <th>Education</th>\n",
       "      <th>PayPlan</th>\n",
       "      <th>Grade</th>\n",
       "      <th>LOS</th>\n",
       "      <th>Occupation</th>\n",
       "      <th>Category</th>\n",
       "      <th>Pay</th>\n",
       "      <th>SupervisoryStatus</th>\n",
       "      <th>Appointment</th>\n",
       "      <th>Schedule</th>\n",
       "      <th>NSFTP</th>\n",
       "      <th>AgencyName</th>\n",
       "    </tr>\n",
       "  </thead>\n",
       "  <tbody>\n",
       "    <tr>\n",
       "      <th>0</th>\n",
       "      <td>139960</td>\n",
       "      <td>5256</td>\n",
       "      <td>HOLYOAK,DALIN R</td>\n",
       "      <td>20140331</td>\n",
       "      <td>DJ01</td>\n",
       "      <td>110010001</td>\n",
       "      <td>35-39</td>\n",
       "      <td>3</td>\n",
       "      <td>GS</td>\n",
       "      <td>15</td>\n",
       "      <td>5-9</td>\n",
       "      <td>905</td>\n",
       "      <td>P</td>\n",
       "      <td>149993.0</td>\n",
       "      <td>8.0</td>\n",
       "      <td>30</td>\n",
       "      <td>F</td>\n",
       "      <td>1</td>\n",
       "      <td>OFFICES, BOARDS AND DIVISIONS</td>\n",
       "    </tr>\n",
       "    <tr>\n",
       "      <th>1</th>\n",
       "      <td>139961</td>\n",
       "      <td>6623</td>\n",
       "      <td>BLUE,MATTHEW</td>\n",
       "      <td>20140331</td>\n",
       "      <td>DJ01</td>\n",
       "      <td>110010001</td>\n",
       "      <td>35-39</td>\n",
       "      <td>3</td>\n",
       "      <td>GS</td>\n",
       "      <td>15</td>\n",
       "      <td>5-9</td>\n",
       "      <td>905</td>\n",
       "      <td>P</td>\n",
       "      <td>149993.0</td>\n",
       "      <td>8.0</td>\n",
       "      <td>30</td>\n",
       "      <td>F</td>\n",
       "      <td>1</td>\n",
       "      <td>OFFICES, BOARDS AND DIVISIONS</td>\n",
       "    </tr>\n",
       "    <tr>\n",
       "      <th>2</th>\n",
       "      <td>139962</td>\n",
       "      <td>6842</td>\n",
       "      <td>MCCORMACK,MISTI REBECCA</td>\n",
       "      <td>20140331</td>\n",
       "      <td>DJ01</td>\n",
       "      <td>205880173</td>\n",
       "      <td>40-44</td>\n",
       "      <td>3</td>\n",
       "      <td>GS</td>\n",
       "      <td>15</td>\n",
       "      <td>10-14</td>\n",
       "      <td>905</td>\n",
       "      <td>P</td>\n",
       "      <td>145504.0</td>\n",
       "      <td>8.0</td>\n",
       "      <td>30</td>\n",
       "      <td>F</td>\n",
       "      <td>1</td>\n",
       "      <td>OFFICES, BOARDS AND DIVISIONS</td>\n",
       "    </tr>\n",
       "    <tr>\n",
       "      <th>3</th>\n",
       "      <td>139963</td>\n",
       "      <td>7639</td>\n",
       "      <td>STALZER,ROBERT M</td>\n",
       "      <td>20140331</td>\n",
       "      <td>DJ01</td>\n",
       "      <td>110010001</td>\n",
       "      <td>30-34</td>\n",
       "      <td>3</td>\n",
       "      <td>GS</td>\n",
       "      <td>15</td>\n",
       "      <td>5-9</td>\n",
       "      <td>905</td>\n",
       "      <td>P</td>\n",
       "      <td>124995.0</td>\n",
       "      <td>8.0</td>\n",
       "      <td>30</td>\n",
       "      <td>F</td>\n",
       "      <td>1</td>\n",
       "      <td>OFFICES, BOARDS AND DIVISIONS</td>\n",
       "    </tr>\n",
       "    <tr>\n",
       "      <th>4</th>\n",
       "      <td>139964</td>\n",
       "      <td>15645</td>\n",
       "      <td>SINGH,ANITA</td>\n",
       "      <td>20140331</td>\n",
       "      <td>DJ01</td>\n",
       "      <td>110010001</td>\n",
       "      <td>30-34</td>\n",
       "      <td>3</td>\n",
       "      <td>GS</td>\n",
       "      <td>15</td>\n",
       "      <td>5-9</td>\n",
       "      <td>905</td>\n",
       "      <td>P</td>\n",
       "      <td>145827.0</td>\n",
       "      <td>8.0</td>\n",
       "      <td>30</td>\n",
       "      <td>F</td>\n",
       "      <td>1</td>\n",
       "      <td>OFFICES, BOARDS AND DIVISIONS</td>\n",
       "    </tr>\n",
       "  </tbody>\n",
       "</table>\n",
       "</div>"
      ],
      "text/plain": [
       "   Unnamed: 0  PseudoID                     Name      Date Agency    Station  \\\n",
       "0      139960      5256          HOLYOAK,DALIN R  20140331   DJ01  110010001   \n",
       "1      139961      6623             BLUE,MATTHEW  20140331   DJ01  110010001   \n",
       "2      139962      6842  MCCORMACK,MISTI REBECCA  20140331   DJ01  205880173   \n",
       "3      139963      7639         STALZER,ROBERT M  20140331   DJ01  110010001   \n",
       "4      139964     15645              SINGH,ANITA  20140331   DJ01  110010001   \n",
       "\n",
       "     Age  Education PayPlan Grade    LOS Occupation Category       Pay  \\\n",
       "0  35-39          3      GS    15    5-9        905        P  149993.0   \n",
       "1  35-39          3      GS    15    5-9        905        P  149993.0   \n",
       "2  40-44          3      GS    15  10-14        905        P  145504.0   \n",
       "3  30-34          3      GS    15    5-9        905        P  124995.0   \n",
       "4  30-34          3      GS    15    5-9        905        P  145827.0   \n",
       "\n",
       "   SupervisoryStatus Appointment Schedule  NSFTP  \\\n",
       "0                8.0          30        F      1   \n",
       "1                8.0          30        F      1   \n",
       "2                8.0          30        F      1   \n",
       "3                8.0          30        F      1   \n",
       "4                8.0          30        F      1   \n",
       "\n",
       "                      AgencyName  \n",
       "0  OFFICES, BOARDS AND DIVISIONS  \n",
       "1  OFFICES, BOARDS AND DIVISIONS  \n",
       "2  OFFICES, BOARDS AND DIVISIONS  \n",
       "3  OFFICES, BOARDS AND DIVISIONS  \n",
       "4  OFFICES, BOARDS AND DIVISIONS  "
      ]
     },
     "execution_count": 73,
     "metadata": {},
     "output_type": "execute_result"
    }
   ],
   "source": [
    "import pandas as pd\n",
    "\n",
    "df = pd.read_csv('data/2014-clean.csv', encoding = 'latin1')\n",
    "df_adjust = df\n",
    "df_adjust.Education[df_adjust.Education < 4] = 1\n",
    "df_adjust.Education[(df_adjust.Education > 3) & (df_adjust.Education < 13)] = 2\n",
    "df_adjust.Education[(df_adjust.Education > 12) & (df_adjust.Education < 17)] = 3\n",
    "df_adjust.Education[df_adjust.Education > 16] = 4\n",
    "df_adjust = df_adjust[np.isfinite(df_adjust['Education'])]\n",
    "df_adjust.Education = df_adjust.Education.astype(int)\n",
    "df_adjust.head()"
   ]
  },
  {
   "cell_type": "code",
   "execution_count": 74,
   "metadata": {},
   "outputs": [
    {
     "name": "stdout",
     "output_type": "stream",
     "text": [
      "2    492990\n",
      "3    336149\n",
      "4    175876\n",
      "1      9440\n",
      "Name: Education, dtype: int64\n",
      "1014455\n"
     ]
    }
   ],
   "source": [
    "print(df_adjust.Education.value_counts())\n",
    "print(len(df_adjust))"
   ]
  },
  {
   "cell_type": "code",
   "execution_count": null,
   "metadata": {
    "collapsed": true
   },
   "outputs": [],
   "source": []
  },
  {
   "cell_type": "code",
   "execution_count": 1,
   "metadata": {},
   "outputs": [
    {
     "name": "stdout",
     "output_type": "stream",
     "text": [
      "Base Binary Logistic Regression Object, Not Trainable\n"
     ]
    }
   ],
   "source": [
    "import numpy as np\n",
    "class BinaryLogisticRegressionBase:\n",
    "    # private:\n",
    "    def __init__(self, eta, iterations=20):\n",
    "        self.eta = eta\n",
    "        self.iters = iterations\n",
    "        # internally we will store the weights as self.w_ to keep with sklearn conventions\n",
    "    \n",
    "    def __str__(self):\n",
    "        return 'Base Binary Logistic Regression Object, Not Trainable'\n",
    "    \n",
    "    # convenience, private:\n",
    "    @staticmethod\n",
    "    def _sigmoid(theta):\n",
    "        return 1/(1+np.exp(-theta)) \n",
    "    \n",
    "    @staticmethod\n",
    "    def _add_bias(X):\n",
    "        return np.hstack((np.ones((X.shape[0],1)),X)) # add bias term\n",
    "    \n",
    "    # public:\n",
    "    def predict_proba(self,X,add_bias=True):\n",
    "        # add bias term if requested\n",
    "        Xb = self._add_bias(X) if add_bias else X\n",
    "        return self._sigmoid(Xb @ self.w_) # return the probability y=1\n",
    "    \n",
    "    def predict(self,X):\n",
    "        return (self.predict_proba(X)>0.5) #return the actual prediction\n",
    "    \n",
    "    \n",
    "        \n",
    "blr = BinaryLogisticRegressionBase(0.1)\n",
    "print(blr)"
   ]
  },
  {
   "cell_type": "code",
   "execution_count": 7,
   "metadata": {},
   "outputs": [
    {
     "name": "stdout",
     "output_type": "stream",
     "text": [
      "Untrained Binary Logistic Regression Object\n"
     ]
    }
   ],
   "source": [
    "# inherit from base class\n",
    "class BinaryLogisticRegression(BinaryLogisticRegressionBase):\n",
    "    #private:\n",
    "    def __str__(self):\n",
    "        if(hasattr(self,'w_')):\n",
    "            return 'Binary Logistic Regression Object with coefficients:\\n'+ str(self.w_) # is we have trained the object\n",
    "        else:\n",
    "            return 'Untrained Binary Logistic Regression Object'\n",
    "        \n",
    "    def _get_gradient(self,X,y):\n",
    "        # programming \\sum_i (yi-g(xi))xi\n",
    "        gradient = np.zeros(self.w_.shape) # set gradient to zero\n",
    "        for (xi,yi) in zip(X,y):\n",
    "            # the actual update inside of sum\n",
    "            gradi = (yi - self.predict_proba(xi,add_bias=False))*xi \n",
    "            # reshape to be column vector and add to gradient\n",
    "            gradient += gradi.reshape(self.w_.shape) \n",
    "        \n",
    "        return gradient/float(len(y))\n",
    "       \n",
    "    # public:\n",
    "    def fit(self, X, y):\n",
    "        Xb = self._add_bias(X) # add bias term\n",
    "        num_samples, num_features = Xb.shape\n",
    "        \n",
    "        self.w_ = np.zeros((num_features,1)) # init weight vector to zeros\n",
    "        \n",
    "        # for as many as the max iterations\n",
    "        for _ in range(self.iters):\n",
    "            gradient = self._get_gradient(Xb,y)\n",
    "            self.w_ += gradient*self.eta # multiply by learning rate \n",
    "\n",
    "            \n",
    "blr = BinaryLogisticRegression(0.1)\n",
    "print(blr)"
   ]
  },
  {
   "cell_type": "code",
   "execution_count": 20,
   "metadata": {
    "collapsed": true
   },
   "outputs": [],
   "source": [
    "from sklearn.datasets import load_iris\n",
    "import plotly"
   ]
  },
  {
   "cell_type": "code",
   "execution_count": 75,
   "metadata": {},
   "outputs": [
    {
     "name": "stderr",
     "output_type": "stream",
     "text": [
      "IOPub data rate exceeded.\n",
      "The notebook server will temporarily stop sending output\n",
      "to the client in order to avoid crashing it.\n",
      "To change this limit, set the config variable\n",
      "`--NotebookApp.iopub_data_rate_limit`.\n"
     ]
    },
    {
     "data": {
      "application/vnd.plotly.v1+json": {
       "data": [
        {
         "labels": [
          1,
          2,
          3,
          4
         ],
         "type": "pie",
         "values": [
          0,
          9440,
          492990,
          336149,
          175876
         ]
        }
       ],
       "layout": {
        "autosize": false,
        "height": 300,
        "title": "Binary Class Distribution",
        "width": 500
       }
      },
      "text/html": [
       "<div id=\"8ba2eb92-e500-43f1-8957-6ca54ed9dec2\" style=\"height: 300px; width: 500px;\" class=\"plotly-graph-div\"></div><script type=\"text/javascript\">require([\"plotly\"], function(Plotly) { window.PLOTLYENV=window.PLOTLYENV || {};window.PLOTLYENV.BASE_URL=\"https://plot.ly\";Plotly.newPlot(\"8ba2eb92-e500-43f1-8957-6ca54ed9dec2\", [{\"labels\": [1, 2, 3, 4], \"values\": [0, 9440, 492990, 336149, 175876], \"type\": \"pie\"}], {\"title\": \"Binary Class Distribution\", \"autosize\": false, \"width\": 500, \"height\": 300}, {\"showLink\": true, \"linkText\": \"Export to plot.ly\"})});</script>"
      ],
      "text/vnd.plotly.v1+html": [
       "<div id=\"8ba2eb92-e500-43f1-8957-6ca54ed9dec2\" style=\"height: 300px; width: 500px;\" class=\"plotly-graph-div\"></div><script type=\"text/javascript\">require([\"plotly\"], function(Plotly) { window.PLOTLYENV=window.PLOTLYENV || {};window.PLOTLYENV.BASE_URL=\"https://plot.ly\";Plotly.newPlot(\"8ba2eb92-e500-43f1-8957-6ca54ed9dec2\", [{\"labels\": [1, 2, 3, 4], \"values\": [0, 9440, 492990, 336149, 175876], \"type\": \"pie\"}], {\"title\": \"Binary Class Distribution\", \"autosize\": false, \"width\": 500, \"height\": 300}, {\"showLink\": true, \"linkText\": \"Export to plot.ly\"})});</script>"
      ]
     },
     "metadata": {},
     "output_type": "display_data"
    }
   ],
   "source": [
    "X = df_adjust.Pay\n",
    "y = df_adjust.Education # make problem binary\n",
    "\n",
    "plotly.offline.init_notebook_mode() # run at the start of every notebook\n",
    "\n",
    "graph1 = {'labels': np.unique(y),\n",
    "          'values': np.bincount(y),\n",
    "            'type': 'pie'}\n",
    "fig = dict()\n",
    "fig['data'] = [graph1]\n",
    "fig['layout'] = {'title': 'Binary Class Distribution',\n",
    "                'autosize':False,\n",
    "                'width':500,\n",
    "                'height':300}\n",
    "\n",
    "plotly.offline.iplot(fig)"
   ]
  },
  {
   "cell_type": "code",
   "execution_count": 12,
   "metadata": {},
   "outputs": [
    {
     "name": "stdout",
     "output_type": "stream",
     "text": [
      "Accuracy of:  0.98\n"
     ]
    }
   ],
   "source": [
    "from sklearn.metrics import accuracy_score\n",
    "\n",
    "yhat = blr.predict(X)\n",
    "print('Accuracy of: ',accuracy_score(y,yhat))"
   ]
  },
  {
   "cell_type": "code",
   "execution_count": 14,
   "metadata": {},
   "outputs": [
    {
     "name": "stdout",
     "output_type": "stream",
     "text": [
      "Binary Logistic Regression Object with coefficients:\n",
      "[[-0.80547425]\n",
      " [-1.57588842]\n",
      " [-1.41637355]\n",
      " [ 2.33633735]\n",
      " [ 2.0138144 ]]\n",
      "Accuracy of:  0.98\n",
      "CPU times: user 815 ms, sys: 48.4 ms, total: 864 ms\n",
      "Wall time: 829 ms\n"
     ]
    }
   ],
   "source": [
    "%%time\n",
    "# can we do better? Maybe more iterations?\n",
    "params = dict(eta=0.1,\n",
    "              iterations=500)\n",
    "\n",
    "blr = BinaryLogisticRegression(**params)\n",
    "blr.fit(X,y)\n",
    "print(blr)\n",
    "yhat = blr.predict(X)\n",
    "print('Accuracy of: ',accuracy_score(y,yhat))"
   ]
  },
  {
   "cell_type": "code",
   "execution_count": 15,
   "metadata": {},
   "outputs": [
    {
     "name": "stdout",
     "output_type": "stream",
     "text": [
      "[[-0.80547425]\n",
      " [-1.57588842]\n",
      " [-1.41637355]\n",
      " [ 2.33633735]\n",
      " [ 2.0138144 ]]\n",
      "Accuracy of:  0.98\n",
      "CPU times: user 19.2 ms, sys: 2.22 ms, total: 21.4 ms\n",
      "Wall time: 19.7 ms\n"
     ]
    }
   ],
   "source": [
    "%%time\n",
    "# now lets do some vectorized coding\n",
    "from scipy.special import expit\n",
    "\n",
    "class VectorBinaryLogisticRegression(BinaryLogisticRegression):\n",
    "    # inherit from our previous class to get same functionality\n",
    "    @staticmethod\n",
    "    def _sigmoid(theta):\n",
    "        # increase stability, redefine sigmoid operation\n",
    "        return expit(theta) #1/(1+np.exp(-theta))\n",
    "    \n",
    "    # but overwrite the gradient calculation\n",
    "    def _get_gradient(self,X,y):\n",
    "        ydiff = y-self.predict_proba(X,add_bias=False).ravel() # get y difference\n",
    "        gradient = np.mean(X * ydiff[:,np.newaxis], axis=0) # make ydiff a column vector and multiply through\n",
    "        \n",
    "        return gradient.reshape(self.w_.shape)\n",
    "\n",
    "# use same params as defined above\n",
    "blr = VectorBinaryLogisticRegression(**params)\n",
    "blr.fit(X,y)\n",
    "print(blr.w_)\n",
    "yhat = blr.predict(X)\n",
    "print('Accuracy of: ',accuracy_score(y,yhat))"
   ]
  },
  {
   "cell_type": "code",
   "execution_count": null,
   "metadata": {
    "collapsed": true
   },
   "outputs": [],
   "source": []
  }
 ],
 "metadata": {
  "kernelspec": {
   "display_name": "Python 3",
   "language": "python",
   "name": "python3"
  },
  "language_info": {
   "codemirror_mode": {
    "name": "ipython",
    "version": 3
   },
   "file_extension": ".py",
   "mimetype": "text/x-python",
   "name": "python",
   "nbconvert_exporter": "python",
   "pygments_lexer": "ipython3",
   "version": "3.6.2"
  }
 },
 "nbformat": 4,
 "nbformat_minor": 2
}
